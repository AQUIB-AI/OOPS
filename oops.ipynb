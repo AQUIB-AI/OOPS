{
  "nbformat": 4,
  "nbformat_minor": 0,
  "metadata": {
    "colab": {
      "provenance": []
    },
    "kernelspec": {
      "name": "python3",
      "display_name": "Python 3"
    },
    "language_info": {
      "name": "python"
    }
  },
  "cells": [
    {
      "cell_type": "markdown",
      "source": [
        "\n",
        "# Python OOPs **Questions**\n",
        "1. What is Object-Oriented Programming (OOP)?\n",
        "\n",
        "    Object-Oriented Programming (OOP) is a programming paradigm that is based on the concept of \"objects\", which can contain data (attributes) and functions (methods). It allows for better organization of code and promotes reuse through concepts like inheritance, polymorphism, encapsulation, and abstraction.\n",
        "\n",
        "2. What is a class in OOP?\n",
        "\n",
        "    A class is a blueprint or template for creating objects. It defines a set of attributes and methods that the created objects (instances) will have.\n",
        "\n",
        "3. What is an object in OOP?\n",
        "\n",
        "    An object is an instance of a class. It represents a specific entity that has the structure and behavior defined by the class.\n",
        "\n",
        "4. What is the difference between abstraction and encapsulation?\n",
        "    \n",
        "    Abstraction is hiding complex implementation details and showing only the necessary features.\n",
        "\n",
        "    Encapsulation is wrapping data and methods into a single unit (class) and restricting direct access to some components using access modifiers.\n",
        "\n",
        "5. What are dunder methods in Python?\n",
        "\n",
        "    Dunder methods (short for “double underscore”) like __init__, __str__, and __repr__ are special methods used to define behavior for built-in operations. They allow objects to interact with Python’s syntax and built-in functions.\n",
        "\n",
        "6. Explain the concept of inheritance in OOP.\n",
        "    \n",
        "    Inheritance allows one class (child or derived class) to inherit the properties and methods of another class (parent or base class). It promotes code reusability.\n",
        "\n",
        "7. What is polymorphism in OOP?\n",
        "\n",
        "    Polymorphism means having many forms. In OOP, it refers to the ability of different objects to respond, each in its own way, to the same method call.\n",
        "\n",
        "8. How is encapsulation achieved in Python?\n",
        "\n",
        "    Encapsulation in Python is achieved using access modifiers:\n",
        "\n",
        "\n",
        "    Public: accessible from anywhere.\n",
        "\n",
        "    Protected (_var): intended for internal use.\n",
        "\n",
        "    Private (__var): name mangling to restrict access.\n",
        "\n",
        "9. What is a constructor in Python?\n",
        "\n",
        "    A constructor is a special method (__init__) in Python that gets called when an object is instantiated. It is used to initialize the object’s attributes.\n",
        "\n",
        "10. What are class and static methods in Python?\n",
        "\n",
        "    Class methods use @classmethod and take cls as the first parameter. They can access class-level data.\n",
        "\n",
        "    Static methods use @staticmethod and do not take self or cls. They are utility functions within a class.\n",
        "\n",
        "11. What is method overloading in Python?\n",
        "\n",
        "    Python does not support traditional method overloading, but similar behavior can be achieved using default parameters or *args and **kwargs.\n",
        "\n",
        "12. What is method overriding in OOP?\n",
        "\n",
        "    Method overriding is when a child class provides a specific implementation of a method that is already defined in its parent class.\n",
        "\n",
        "13. What is a property decorator in Python?\n",
        "    \n",
        "    @property is a decorator in Python that turns a method into a read-only attribute. It allows us to access methods like attributes without parentheses.\n",
        "\n",
        "14. Why is polymorphism important in OOP?\n",
        "  \n",
        "    Polymorphism is important because it allows code to be more flexible and extensible. We can write functions that work with objects of different classes as long as they implement the same interface.\n",
        "\n",
        "15. What is an abstract class in Python?\n",
        "\n",
        "    An abstract class is a class that cannot be instantiated and may contain abstract methods. We use the abc module and @abstractmethod decorator in Python.\n",
        "\n",
        "16. What are the advantages of OOP?\n",
        "\n",
        "    Code reusability through inheritance.\n",
        "\n",
        "    Improved productivity.\n",
        "\n",
        "    Easier debugging and maintenance.\n",
        "\n",
        "    Real-world modeling.\n",
        "\n",
        "    Data security using encapsulation.\n",
        "\n",
        "17. What is the difference between a class variable and an instance variable?\n",
        "\n",
        "    Class variables are shared across all instances. Instance variables are unique to each object.\n",
        "\n",
        "18. What is multiple inheritance in Python?\n",
        "    \n",
        "    Multiple inheritance means a class can inherit from more than one base class. Python supports this, and the Method Resolution Order (MRO) helps resolve conflicts.\n",
        "\n",
        "19. Explain the purpose of __str__ and __repr__ methods in Python.\n",
        "\n",
        "    __str__ defines the user-friendly string representation of an object.\n",
        "\n",
        "    __repr__ defines the developer-friendly or official representation, useful for debugging.\n",
        "\n",
        "20. What is the significance of the super() function in Python?\n",
        "\n",
        "    super() is used to call a method from the parent class. It’s useful in inheritance to avoid explicitly referring to the parent class.\n",
        "\n",
        "21. What is the significance of the __del__ method in Python?\n",
        "\n",
        "    __del__ is the destructor method. It is called when an object is about to be destroyed, allowing clean-up operations.\n",
        "\n",
        "22. What is the difference between @staticmethod and @classmethod in Python?\n",
        "\n",
        "    \n",
        "    @staticmethod: doesn’t access class or instance data.\n",
        "\n",
        "    @classmethod: can access and modify class-level data using cls.\n",
        "\n",
        "23. How does polymorphism work in Python with inheritance?\n",
        "\n",
        "    In inheritance, polymorphism allows the child class to override methods of the parent class. The same method call can behave differently depending on the object.\n",
        "\n",
        "24. What is method chaining in Python OOP?\n",
        "\n",
        "    Method chaining is calling multiple methods on the same object in a single line. This is done by returning self from each method.\n",
        "\n",
        "Example:\n",
        "\n",
        "\n",
        "    obj.method1().method2().method3()\n",
        "\n",
        "25. What is the purpose of the __call__ method in Python?\n",
        "\n",
        "    __call__ allows an object to be called like a function. When defined, object() is equivalent to object.__call__()."
      ],
      "metadata": {
        "id": "voakIZEx_J34"
      }
    },
    {
      "cell_type": "code",
      "source": [
        "## Practical Questions\n",
        "## 1. Parent & Child Class (Method Overriding)\n",
        "class Animal:\n",
        "    def speak(self):\n",
        "        print(\"Animal makes a sound.\")\n",
        "\n",
        "class Dog(Animal):\n",
        "    def speak(self):\n",
        "        print(\"Bark!\")\n",
        "\n",
        "dog = Dog()\n",
        "dog.speak()\n"
      ],
      "metadata": {
        "colab": {
          "base_uri": "https://localhost:8080/"
        },
        "id": "1IwJ8bSqAbSo",
        "outputId": "33d5f7a0-fb79-4967-8818-a30616c40f12"
      },
      "execution_count": 1,
      "outputs": [
        {
          "output_type": "stream",
          "name": "stdout",
          "text": [
            "Bark!\n"
          ]
        }
      ]
    },
    {
      "cell_type": "code",
      "source": [
        "## 2. Abstract Class with Area Method\n",
        "from abc import ABC, abstractmethod\n",
        "\n",
        "class Shape(ABC):\n",
        "    @abstractmethod\n",
        "    def area(self):\n",
        "        pass\n",
        "\n",
        "class Circle(Shape):\n",
        "    def __init__(self, radius):\n",
        "        self.radius = radius\n",
        "\n",
        "    def area(self):\n",
        "        return 3.14 * self.radius * self.radius\n",
        "\n",
        "class Rectangle(Shape):\n",
        "    def __init__(self, length, width):\n",
        "        self.length = length\n",
        "        self.width = width\n",
        "\n",
        "    def area(self):\n",
        "        return self.length * self.width\n",
        "\n",
        "c = Circle(5)\n",
        "r = Rectangle(4, 6)\n",
        "print(c.area())\n",
        "print(r.area())\n"
      ],
      "metadata": {
        "colab": {
          "base_uri": "https://localhost:8080/"
        },
        "id": "Gg-1irXrBC7m",
        "outputId": "769639d3-1cb4-4238-f75d-0bc468e7ddc6"
      },
      "execution_count": 2,
      "outputs": [
        {
          "output_type": "stream",
          "name": "stdout",
          "text": [
            "78.5\n",
            "24\n"
          ]
        }
      ]
    },
    {
      "cell_type": "code",
      "source": [
        "## 3. Multi-Level Inheritance\n",
        "class Vehicle:\n",
        "    def __init__(self, type):\n",
        "        self.type = type\n",
        "\n",
        "class Car(Vehicle):\n",
        "    def __init__(self, type, brand):\n",
        "        super().__init__(type)\n",
        "        self.brand = brand\n",
        "\n",
        "class ElectricCar(Car):\n",
        "    def __init__(self, type, brand, battery):\n",
        "        super().__init__(type, brand)\n",
        "        self.battery = battery\n",
        "\n",
        "e_car = ElectricCar(\"Four Wheeler\", \"ALTO-800\", \"100kWh\")\n",
        "print(e_car.type, e_car.brand, e_car.battery)\n"
      ],
      "metadata": {
        "colab": {
          "base_uri": "https://localhost:8080/"
        },
        "id": "vhMdiuXbBKE-",
        "outputId": "6b48a90f-fd9d-4297-a9ca-2b399ea7e3de"
      },
      "execution_count": 4,
      "outputs": [
        {
          "output_type": "stream",
          "name": "stdout",
          "text": [
            "Four Wheeler ALTO-800 100kWh\n"
          ]
        }
      ]
    },
    {
      "cell_type": "code",
      "source": [
        "##4. Polymorphism with Birds\n",
        "class Bird:\n",
        "    def fly(self):\n",
        "        print(\"Bird is flying\")\n",
        "\n",
        "class Sparrow(Bird):\n",
        "    def fly(self):\n",
        "        print(\"Sparrow flies low\")\n",
        "\n",
        "class Penguin(Bird):\n",
        "    def fly(self):\n",
        "        print(\"Penguin can't fly\")\n",
        "\n",
        "for bird in [Sparrow(), Penguin()]:\n",
        "    bird.fly()\n"
      ],
      "metadata": {
        "colab": {
          "base_uri": "https://localhost:8080/"
        },
        "id": "5POFyAP5BXzb",
        "outputId": "d423653b-0c59-45af-d694-b56bd47d9cc1"
      },
      "execution_count": 7,
      "outputs": [
        {
          "output_type": "stream",
          "name": "stdout",
          "text": [
            "Sparrow flies low\n",
            "Penguin can't fly\n"
          ]
        }
      ]
    },
    {
      "cell_type": "code",
      "source": [
        "## 5. Encapsulation with BankAccount\n",
        "class BankAccount:\n",
        "    def __init__(self, balance):\n",
        "        self.__balance = balance\n",
        "\n",
        "    def deposit(self, amount):\n",
        "        self.__balance += amount\n",
        "\n",
        "    def withdraw(self, amount):\n",
        "        if amount <= self.__balance:\n",
        "            self.__balance -= amount\n",
        "        else:\n",
        "            print(\"Insufficient balance\")\n",
        "\n",
        "    def check_balance(self):\n",
        "        return self.__balance\n",
        "\n",
        "acc = BankAccount(1000)\n",
        "acc.deposit(500)\n",
        "acc.withdraw(300)\n",
        "print(acc.check_balance())\n"
      ],
      "metadata": {
        "colab": {
          "base_uri": "https://localhost:8080/"
        },
        "id": "cAk1mk-QBxu6",
        "outputId": "08906c3c-b430-4855-880a-d17e4e857db6"
      },
      "execution_count": 8,
      "outputs": [
        {
          "output_type": "stream",
          "name": "stdout",
          "text": [
            "1200\n"
          ]
        }
      ]
    },
    {
      "cell_type": "code",
      "source": [
        "## 6. Runtime Polymorphism with Instrument\n",
        "class Instrument:\n",
        "    def play(self):\n",
        "        print(\"Instrument is playing\")\n",
        "\n",
        "class Guitar(Instrument):\n",
        "    def play(self):\n",
        "        print(\"Guitar is strumming\")\n",
        "\n",
        "class Piano(Instrument):\n",
        "    def play(self):\n",
        "        print(\"Piano is playing\")\n",
        "\n",
        "for i in [Guitar(), Piano()]:\n",
        "    i.play()\n"
      ],
      "metadata": {
        "colab": {
          "base_uri": "https://localhost:8080/"
        },
        "id": "pnlCRLAEB6cr",
        "outputId": "8d549410-e033-46bd-db15-f8cc9206deb4"
      },
      "execution_count": 9,
      "outputs": [
        {
          "output_type": "stream",
          "name": "stdout",
          "text": [
            "Guitar is strumming\n",
            "Piano is playing\n"
          ]
        }
      ]
    },
    {
      "cell_type": "code",
      "source": [
        "## 7. Class & Static Methods in MathOperations\n",
        "class MathOperations:\n",
        "    @classmethod\n",
        "    def add_numbers(cls, a, b):\n",
        "        return a + b\n",
        "\n",
        "    @staticmethod\n",
        "    def subtract_numbers(a, b):\n",
        "        return a - b\n",
        "\n",
        "print(MathOperations.add_numbers(10, 5))\n",
        "print(MathOperations.subtract_numbers(10, 5))\n"
      ],
      "metadata": {
        "colab": {
          "base_uri": "https://localhost:8080/"
        },
        "id": "i9c_0M7KCDFq",
        "outputId": "85568b2c-7020-4abd-956f-6135ee80570a"
      },
      "execution_count": 10,
      "outputs": [
        {
          "output_type": "stream",
          "name": "stdout",
          "text": [
            "15\n",
            "5\n"
          ]
        }
      ]
    },
    {
      "cell_type": "code",
      "source": [
        "## 8. Person Class with Person Counter\n",
        "class Person:\n",
        "    count = 0\n",
        "\n",
        "    def __init__(self, name):\n",
        "        self.name = name\n",
        "        Person.count += 1\n",
        "\n",
        "    @classmethod\n",
        "    def total_persons(cls):\n",
        "        return cls.count\n",
        "\n",
        "p1 = Person(\"Alice\")\n",
        "p2 = Person(\"Bob\")\n",
        "print(Person.total_persons())\n"
      ],
      "metadata": {
        "colab": {
          "base_uri": "https://localhost:8080/"
        },
        "id": "BJzH_j1FCJhp",
        "outputId": "99145eba-a551-47dd-a96e-8c8d16520093"
      },
      "execution_count": 11,
      "outputs": [
        {
          "output_type": "stream",
          "name": "stdout",
          "text": [
            "2\n"
          ]
        }
      ]
    },
    {
      "cell_type": "code",
      "source": [
        "## 9. Fraction Class with __str__ Override\n",
        "class Fraction:\n",
        "    def __init__(self, numerator, denominator):\n",
        "        self.numerator = numerator\n",
        "        self.denominator = denominator\n",
        "\n",
        "    def __str__(self):\n",
        "        return f\"{self.numerator}/{self.denominator}\"\n",
        "\n",
        "f = Fraction(3, 4)\n",
        "print(f)\n"
      ],
      "metadata": {
        "colab": {
          "base_uri": "https://localhost:8080/"
        },
        "id": "Q7An5yxWCRnh",
        "outputId": "8fea741b-b915-4610-c14c-2be454a92cde"
      },
      "execution_count": 12,
      "outputs": [
        {
          "output_type": "stream",
          "name": "stdout",
          "text": [
            "3/4\n"
          ]
        }
      ]
    },
    {
      "cell_type": "code",
      "source": [
        "## 10. Operator Overloading with Vector Addition\n",
        "class Vector:\n",
        "    def __init__(self, x, y):\n",
        "        self.x = x\n",
        "        self.y = y\n",
        "\n",
        "    def __add__(self, other):\n",
        "        return Vector(self.x + other.x, self.y + other.y)\n",
        "\n",
        "    def __str__(self):\n",
        "        return f\"Vector({self.x}, {self.y})\"\n",
        "\n",
        "v1 = Vector(2, 3)\n",
        "v2 = Vector(4, 5)\n",
        "print(v1 + v2)\n"
      ],
      "metadata": {
        "colab": {
          "base_uri": "https://localhost:8080/"
        },
        "id": "JKRHWRVfCWzF",
        "outputId": "10b7fb27-fbc2-4666-b2bb-06e8a76c8838"
      },
      "execution_count": 13,
      "outputs": [
        {
          "output_type": "stream",
          "name": "stdout",
          "text": [
            "Vector(6, 8)\n"
          ]
        }
      ]
    },
    {
      "cell_type": "code",
      "source": [
        "## 11. Person Class with greet() Method\n",
        "class Person:\n",
        "    def __init__(self, name, age):\n",
        "        self.name = name\n",
        "        self.age = age\n",
        "\n",
        "    def greet(self):\n",
        "        print(f\"Hello, my name is {self.name} and I am {self.age} years old.\")\n",
        "\n",
        "p = Person(\"Aquib\", 21)\n",
        "p.greet()\n"
      ],
      "metadata": {
        "colab": {
          "base_uri": "https://localhost:8080/"
        },
        "id": "GrMEj5pYCb7i",
        "outputId": "58af6be6-4655-4001-d60a-e0a05813fc8e"
      },
      "execution_count": 14,
      "outputs": [
        {
          "output_type": "stream",
          "name": "stdout",
          "text": [
            "Hello, my name is Aquib and I am 21 years old.\n"
          ]
        }
      ]
    },
    {
      "cell_type": "code",
      "source": [
        "## 12. Class Student with Average Grade\n",
        "class Student:\n",
        "    def __init__(self, name, grades):\n",
        "        self.name = name\n",
        "        self.grades = grades\n",
        "\n",
        "    def average_grade(self):\n",
        "        return sum(self.grades) / len(self.grades)\n",
        "\n",
        "s = Student(\"Aquib\", [80, 90, 85])\n",
        "print(f\"{s.name}'s average grade is {s.average_grade()}\")\n"
      ],
      "metadata": {
        "colab": {
          "base_uri": "https://localhost:8080/"
        },
        "id": "1d9FebYkCh0I",
        "outputId": "b02b1413-96b6-4d0e-efe2-454b269290b9"
      },
      "execution_count": 15,
      "outputs": [
        {
          "output_type": "stream",
          "name": "stdout",
          "text": [
            "Aquib's average grade is 85.0\n"
          ]
        }
      ]
    },
    {
      "cell_type": "code",
      "source": [
        "## 13. Rectangle with Dimension Setter and Area Calculation\n",
        "class Rectangle:\n",
        "    def set_dimensions(self, length, width):\n",
        "        self.length = length\n",
        "        self.width = width\n",
        "\n",
        "    def area(self):\n",
        "        return self.length * self.width\n",
        "\n",
        "r = Rectangle()\n",
        "r.set_dimensions(5, 3)\n",
        "print(\"Area:\", r.area())\n"
      ],
      "metadata": {
        "colab": {
          "base_uri": "https://localhost:8080/"
        },
        "id": "2mhTVn27CnRK",
        "outputId": "419fd0b9-f4ef-4ba1-be94-6b7e660cbd7f"
      },
      "execution_count": 16,
      "outputs": [
        {
          "output_type": "stream",
          "name": "stdout",
          "text": [
            "Area: 15\n"
          ]
        }
      ]
    },
    {
      "cell_type": "code",
      "source": [
        "## 14. Employee and Manager with Salary Calculation\n",
        "class Employee:\n",
        "    def __init__(self, hours, rate):\n",
        "        self.hours = hours\n",
        "        self.rate = rate\n",
        "\n",
        "    def calculate_salary(self):\n",
        "        return self.hours * self.rate\n",
        "\n",
        "class Manager(Employee):\n",
        "    def __init__(self, hours, rate, bonus):\n",
        "        super().__init__(hours, rate)\n",
        "        self.bonus = bonus\n",
        "\n",
        "    def calculate_salary(self):\n",
        "        return super().calculate_salary() + self.bonus\n",
        "\n",
        "m = Manager(40, 500, 2000)\n",
        "print(\"Manager's salary:\", m.calculate_salary())\n"
      ],
      "metadata": {
        "colab": {
          "base_uri": "https://localhost:8080/"
        },
        "id": "hri4JXJ8C1Hr",
        "outputId": "c4d69c42-0b84-4ae0-875a-023f5728c318"
      },
      "execution_count": 17,
      "outputs": [
        {
          "output_type": "stream",
          "name": "stdout",
          "text": [
            "Manager's salary: 22000\n"
          ]
        }
      ]
    },
    {
      "cell_type": "code",
      "source": [
        "## 15. Product with Total Price Method\n",
        "class Product:\n",
        "    def __init__(self, name, price, quantity):\n",
        "        self.name = name\n",
        "        self.price = price\n",
        "        self.quantity = quantity\n",
        "\n",
        "    def total_price(self):\n",
        "        return self.price * self.quantity\n",
        "\n",
        "p = Product(\"Notebook\", 50, 4)\n",
        "print(\"Total price:\", p.total_price())\n"
      ],
      "metadata": {
        "colab": {
          "base_uri": "https://localhost:8080/"
        },
        "id": "9_lVeDJHC65H",
        "outputId": "138e0ff8-4374-4466-c830-9d14963df768"
      },
      "execution_count": 18,
      "outputs": [
        {
          "output_type": "stream",
          "name": "stdout",
          "text": [
            "Total price: 200\n"
          ]
        }
      ]
    },
    {
      "cell_type": "code",
      "source": [
        "## 16. Abstract Animal Class with Derived Classes\n",
        "from abc import ABC, abstractmethod\n",
        "\n",
        "class Animal(ABC):\n",
        "    @abstractmethod\n",
        "    def sound(self):\n",
        "        pass\n",
        "\n",
        "class Cow(Animal):\n",
        "    def sound(self):\n",
        "        print(\"Moo!\")\n",
        "\n",
        "class Sheep(Animal):\n",
        "    def sound(self):\n",
        "        print(\"Baa!\")\n",
        "\n",
        "for animal in [Cow(), Sheep()]:\n",
        "    animal.sound()\n"
      ],
      "metadata": {
        "colab": {
          "base_uri": "https://localhost:8080/"
        },
        "id": "MJpcdB88DB-Q",
        "outputId": "722b6796-87ad-4e2d-9478-b06291047d9f"
      },
      "execution_count": 19,
      "outputs": [
        {
          "output_type": "stream",
          "name": "stdout",
          "text": [
            "Moo!\n",
            "Baa!\n"
          ]
        }
      ]
    },
    {
      "cell_type": "code",
      "source": [
        "## 17.Book Class with Book Info Method\n",
        "class Book:\n",
        "    def __init__(self, title, author, year_published):\n",
        "        self.title = title\n",
        "        self.author = author\n",
        "        self.year_published = year_published\n",
        "\n",
        "    def get_book_info(self):\n",
        "        return f\"{self.title} by {self.author}, published in {self.year_published}\"\n",
        "\n",
        "b = Book(\"Atomic Habits\", \"James Clear\", 2018)\n",
        "print(b.get_book_info())\n"
      ],
      "metadata": {
        "colab": {
          "base_uri": "https://localhost:8080/"
        },
        "id": "uyNyd_t2DJxe",
        "outputId": "ad4ebb24-8a92-42b9-89b0-97bc86ceb7bf"
      },
      "execution_count": 20,
      "outputs": [
        {
          "output_type": "stream",
          "name": "stdout",
          "text": [
            "Atomic Habits by James Clear, published in 2018\n"
          ]
        }
      ]
    },
    {
      "cell_type": "code",
      "source": [
        "## 18. House and Mansion with Room Count\n",
        "class House:\n",
        "    def __init__(self, address, price):\n",
        "        self.address = address\n",
        "        self.price = price\n",
        "\n",
        "class Mansion(House):\n",
        "    def __init__(self, address, price, number_of_rooms):\n",
        "        super().__init__(address, price)\n",
        "        self.number_of_rooms = number_of_rooms\n",
        "\n",
        "m = Mansion(\"Beverly Hills\", 50000000, 20)\n",
        "print(m.address, m.price, m.number_of_rooms)\n"
      ],
      "metadata": {
        "colab": {
          "base_uri": "https://localhost:8080/"
        },
        "id": "R8hGgzNyDSEn",
        "outputId": "502d2da5-eb02-48ef-b6c8-16e3689669dd"
      },
      "execution_count": 21,
      "outputs": [
        {
          "output_type": "stream",
          "name": "stdout",
          "text": [
            "Beverly Hills 50000000 20\n"
          ]
        }
      ]
    }
  ]
}